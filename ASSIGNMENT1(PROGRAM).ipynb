{
 "cells": [
  {
   "cell_type": "markdown",
   "id": "1847e55d",
   "metadata": {},
   "source": [
    "# #Fibonacci series between 0 to 50\n"
   ]
  },
  {
   "cell_type": "code",
   "execution_count": 29,
   "id": "93a663a6",
   "metadata": {},
   "outputs": [
    {
     "name": "stdout",
     "output_type": "stream",
     "text": [
      "the fibonacci sequence of 50  is:\n",
      "1\n",
      "1\n",
      "2\n",
      "3\n",
      "5\n",
      "8\n",
      "13\n",
      "21\n",
      "34\n"
     ]
    }
   ],
   "source": [
    "n=50\n",
    "n1=0\n",
    "n2=1\n",
    "print(\"the fibonacci sequence of\",n,\" is:\")\n",
    "while n2<n:\n",
    "    print(n2)\n",
    "    nth=n1+n2\n",
    "    n1=n2\n",
    "    n2=nth"
   ]
  },
  {
   "cell_type": "markdown",
   "id": "5582a134",
   "metadata": {},
   "source": [
    "# program that accepts a word from the user and reverse it."
   ]
  },
  {
   "cell_type": "code",
   "execution_count": 31,
   "id": "8e6a82c5",
   "metadata": {},
   "outputs": [
    {
     "name": "stdout",
     "output_type": "stream",
     "text": [
      "mirrorword of the EDYODA is ADOYDE\n"
     ]
    }
   ],
   "source": [
    "word=\"EDYODA\"       \n",
    "length=len(word)\n",
    "mirrorword=\"\"\n",
    "while(length>0):\n",
    "    mirrorword+=word[length-1]\n",
    "    length-=1\n",
    "print(\"mirrorword of the\",word,\"is\",mirrorword)\n"
   ]
  },
  {
   "cell_type": "markdown",
   "id": "b69e6939",
   "metadata": {},
   "source": [
    "# program to count the number of even and odd numbers from a series of numbers."
   ]
  },
  {
   "cell_type": "code",
   "execution_count": 28,
   "id": "25fbaa7e",
   "metadata": {},
   "outputs": [
    {
     "name": "stdout",
     "output_type": "stream",
     "text": [
      "the count of even numbers in the given series [1, 2, 3, 4, 5, 6, 7, 8, 9] is 4\n",
      "the count of odd numbers in the given series [1, 2, 3, 4, 5, 6, 7, 8, 9] is 5\n"
     ]
    }
   ],
   "source": [
    "L=[1,2,3,4,5,6,7,8,9]\n",
    "evencount=0\n",
    "oddcount=0\n",
    "for i in L:\n",
    "    if i%2==0:\n",
    "        evencount+=1\n",
    "    else:\n",
    "        oddcount+=1\n",
    "print(\"the count of even numbers in the given series\",L,\"is\",evencount)\n",
    "print(\"the count of odd numbers in the given series\",L,\"is\",oddcount)\n",
    "        "
   ]
  },
  {
   "cell_type": "code",
   "execution_count": null,
   "id": "bd96459c",
   "metadata": {},
   "outputs": [],
   "source": []
  }
 ],
 "metadata": {
  "kernelspec": {
   "display_name": "Python 3 (ipykernel)",
   "language": "python",
   "name": "python3"
  },
  "language_info": {
   "codemirror_mode": {
    "name": "ipython",
    "version": 3
   },
   "file_extension": ".py",
   "mimetype": "text/x-python",
   "name": "python",
   "nbconvert_exporter": "python",
   "pygments_lexer": "ipython3",
   "version": "3.8.2"
  }
 },
 "nbformat": 4,
 "nbformat_minor": 5
}
